{
 "cells": [
  {
   "cell_type": "markdown",
   "metadata": {},
   "source": [
    "# **FastKmedoids**"
   ]
  },
  {
   "cell_type": "markdown",
   "metadata": {},
   "source": [
    "## **Requirements**"
   ]
  },
  {
   "cell_type": "code",
   "execution_count": 1,
   "metadata": {},
   "outputs": [
    {
     "name": "stdout",
     "output_type": "stream",
     "text": [
      "Requirement already satisfied: FastKmedoids in c:\\users\\fscielzo\\anaconda3\\lib\\site-packages (0.0.17)Note: you may need to restart the kernel to use updated packages.\n",
      "\n",
      "Collecting FastKmedoids\n",
      "  Downloading FastKmedoids-0.0.18-py3-none-any.whl.metadata (895 bytes)\n",
      "Requirement already satisfied: polars in c:\\users\\fscielzo\\anaconda3\\lib\\site-packages (from FastKmedoids) (0.19.1)\n",
      "Requirement already satisfied: numpy in c:\\users\\fscielzo\\anaconda3\\lib\\site-packages (from FastKmedoids) (1.24.3)\n",
      "Downloading FastKmedoids-0.0.18-py3-none-any.whl (12 kB)\n",
      "Installing collected packages: FastKmedoids\n",
      "  Attempting uninstall: FastKmedoids\n",
      "    Found existing installation: FastKmedoids 0.0.17\n",
      "    Uninstalling FastKmedoids-0.0.17:\n",
      "      Successfully uninstalled FastKmedoids-0.0.17\n",
      "Successfully installed FastKmedoids-0.0.18\n"
     ]
    }
   ],
   "source": [
    "pip install FastKmedoids --upgrade"
   ]
  },
  {
   "cell_type": "code",
   "execution_count": 2,
   "metadata": {},
   "outputs": [
    {
     "name": "stdout",
     "output_type": "stream",
     "text": [
      "Name: FastKmedoids\n",
      "Version: 0.0.18\n",
      "Summary: This is a package to implement a fast and powerful version of the Kmedoids clustering algorithm, which is built on the Generalised Gower distance, already available in the PyDistances package\n",
      "Home-page: https://github.com/FabioScielzoOrtiz/FastKmedoids_Package\n",
      "Author: Fabio Scielzo Ortiz\n",
      "Author-email: fabioscielzo98@gmail.com\n",
      "License: \n",
      "Location: c:\\Users\\fscielzo\\anaconda3\\Lib\\site-packages\n",
      "Requires: numpy, polars\n",
      "Required-by: \n",
      "Note: you may need to restart the kernel to use updated packages.\n"
     ]
    }
   ],
   "source": [
    "pip show FastKmedoids"
   ]
  },
  {
   "cell_type": "code",
   "execution_count": 3,
   "metadata": {},
   "outputs": [],
   "source": [
    "import polars as pl\n",
    "from PyMachineLearning.preprocessing import encoder\n",
    "from FastKmedoids.models import FastKmedoidsGG, KFoldFastKmedoidsGG"
   ]
  },
  {
   "cell_type": "markdown",
   "metadata": {},
   "source": [
    "## **Data processing**"
   ]
  },
  {
   "cell_type": "code",
   "execution_count": 4,
   "metadata": {},
   "outputs": [],
   "source": [
    "madrid_houses_df = pl.read_csv('madrid_houses.csv')\n",
    "columns_to_exclude = ['', 'id','sq_mt_allotment','floor', 'neighborhood', 'district'] \n",
    "madrid_houses_df = madrid_houses_df.select(pl.exclude(columns_to_exclude))\n",
    "\n",
    "binary_cols = ['is_renewal_needed', 'has_lift', 'is_exterior', 'has_parking']\n",
    "multi_cols = ['energy_certificate', 'house_type']\n",
    "quant_cols = [x for x in madrid_houses_df.columns if x not in binary_cols + multi_cols]\n",
    "\n",
    "encoder_ = encoder(method='ordinal')\n",
    "encoded_arr = encoder_.fit_transform(madrid_houses_df[binary_cols + multi_cols])\n",
    "cat_df = pl.DataFrame(encoded_arr)\n",
    "cat_df.columns =  binary_cols + multi_cols\n",
    "cat_df = cat_df.with_columns([pl.col(col).cast(pl.Int64) for col in cat_df.columns])\n",
    "quant_df = madrid_houses_df[quant_cols]\n",
    "\n",
    "madrid_houses_df = pl.concat([quant_df, cat_df], how='horizontal')"
   ]
  },
  {
   "cell_type": "code",
   "execution_count": 4,
   "metadata": {},
   "outputs": [
    {
     "data": {
      "text/html": [
       "<div><style>\n",
       ".dataframe > thead > tr > th,\n",
       ".dataframe > tbody > tr > td {\n",
       "  text-align: right;\n",
       "  white-space: pre-wrap;\n",
       "}\n",
       "</style>\n",
       "<small>shape: (5, 11)</small><table border=\"1\" class=\"dataframe\"><thead><tr><th>sq_mt_built</th><th>n_rooms</th><th>n_bathrooms</th><th>n_floors</th><th>buy_price</th><th>is_renewal_needed</th><th>has_lift</th><th>is_exterior</th><th>has_parking</th><th>energy_certificate</th><th>house_type</th></tr><tr><td>f64</td><td>i64</td><td>i64</td><td>i64</td><td>i64</td><td>i64</td><td>i64</td><td>i64</td><td>i64</td><td>i64</td><td>i64</td></tr></thead><tbody><tr><td>64.0</td><td>2</td><td>1</td><td>1</td><td>85000</td><td>0</td><td>0</td><td>1</td><td>0</td><td>4</td><td>0</td></tr><tr><td>70.0</td><td>3</td><td>1</td><td>1</td><td>129900</td><td>1</td><td>1</td><td>1</td><td>0</td><td>0</td><td>0</td></tr><tr><td>94.0</td><td>2</td><td>2</td><td>1</td><td>144247</td><td>0</td><td>1</td><td>1</td><td>0</td><td>0</td><td>0</td></tr><tr><td>64.0</td><td>2</td><td>1</td><td>1</td><td>109900</td><td>0</td><td>1</td><td>1</td><td>0</td><td>0</td><td>0</td></tr><tr><td>108.0</td><td>2</td><td>2</td><td>1</td><td>260000</td><td>0</td><td>1</td><td>1</td><td>1</td><td>0</td><td>0</td></tr></tbody></table></div>"
      ],
      "text/plain": [
       "shape: (5, 11)\n",
       "┌────────────┬─────────┬────────────┬──────────┬───┬───────────┬───────────┬───────────┬───────────┐\n",
       "│ sq_mt_buil ┆ n_rooms ┆ n_bathroom ┆ n_floors ┆ … ┆ is_exteri ┆ has_parki ┆ energy_ce ┆ house_typ │\n",
       "│ t          ┆ ---     ┆ s          ┆ ---      ┆   ┆ or        ┆ ng        ┆ rtificate ┆ e         │\n",
       "│ ---        ┆ i64     ┆ ---        ┆ i64      ┆   ┆ ---       ┆ ---       ┆ ---       ┆ ---       │\n",
       "│ f64        ┆         ┆ i64        ┆          ┆   ┆ i64       ┆ i64       ┆ i64       ┆ i64       │\n",
       "╞════════════╪═════════╪════════════╪══════════╪═══╪═══════════╪═══════════╪═══════════╪═══════════╡\n",
       "│ 64.0       ┆ 2       ┆ 1          ┆ 1        ┆ … ┆ 1         ┆ 0         ┆ 4         ┆ 0         │\n",
       "│ 70.0       ┆ 3       ┆ 1          ┆ 1        ┆ … ┆ 1         ┆ 0         ┆ 0         ┆ 0         │\n",
       "│ 94.0       ┆ 2       ┆ 2          ┆ 1        ┆ … ┆ 1         ┆ 0         ┆ 0         ┆ 0         │\n",
       "│ 64.0       ┆ 2       ┆ 1          ┆ 1        ┆ … ┆ 1         ┆ 0         ┆ 0         ┆ 0         │\n",
       "│ 108.0      ┆ 2       ┆ 2          ┆ 1        ┆ … ┆ 1         ┆ 1         ┆ 0         ┆ 0         │\n",
       "└────────────┴─────────┴────────────┴──────────┴───┴───────────┴───────────┴───────────┴───────────┘"
      ]
     },
     "execution_count": 4,
     "metadata": {},
     "output_type": "execute_result"
    }
   ],
   "source": [
    "madrid_houses_df.head()"
   ]
  },
  {
   "cell_type": "code",
   "execution_count": 5,
   "metadata": {},
   "outputs": [
    {
     "data": {
      "text/plain": [
       "(21739, 11)"
      ]
     },
     "execution_count": 5,
     "metadata": {},
     "output_type": "execute_result"
    }
   ],
   "source": [
    "madrid_houses_df.shape"
   ]
  },
  {
   "cell_type": "markdown",
   "metadata": {},
   "source": [
    "## **FastKmedoids**"
   ]
  },
  {
   "cell_type": "code",
   "execution_count": 5,
   "metadata": {},
   "outputs": [
    {
     "name": "stdout",
     "output_type": "stream",
     "text": [
      "Distance matrix size: (217, 217)\n"
     ]
    }
   ],
   "source": [
    "fast_kmedoids = FastKmedoidsGG(n_clusters=3, method='pam', init='heuristic', max_iter=100, random_state=123,\n",
    "                                frac_sample_size=0.01, p1=5, p2=4, p3=2, \n",
    "                                d1='robust_mahalanobis', d2='jaccard', d3='matching', \n",
    "                                robust_maha_method='trimmed', alpha=0.05, epsilon=0.05, n_iters=20)\n",
    "fast_kmedoids.fit(X=madrid_houses_df) "
   ]
  },
  {
   "cell_type": "code",
   "execution_count": 8,
   "metadata": {},
   "outputs": [
    {
     "data": {
      "text/plain": [
       "array([2, 1, 1, ..., 0, 0, 0], dtype=int64)"
      ]
     },
     "execution_count": 8,
     "metadata": {},
     "output_type": "execute_result"
    }
   ],
   "source": [
    "fast_kmedoids.labels"
   ]
  },
  {
   "cell_type": "code",
   "execution_count": 12,
   "metadata": {},
   "outputs": [
    {
     "data": {
      "text/plain": [
       "(21739,)"
      ]
     },
     "execution_count": 12,
     "metadata": {},
     "output_type": "execute_result"
    }
   ],
   "source": [
    "fast_kmedoids.labels.shape"
   ]
  },
  {
   "cell_type": "code",
   "execution_count": 10,
   "metadata": {},
   "outputs": [
    {
     "data": {
      "text/plain": [
       "array([[0.        , 2.0632824 , 2.09686916, ..., 3.20285353, 1.84380918,\n",
       "        3.14611266],\n",
       "       [2.0632824 , 0.        , 2.49128404, ..., 3.09380609, 3.01923008,\n",
       "        1.43032853],\n",
       "       [2.09686916, 2.49128404, 0.        , ..., 2.81596982, 3.36492227,\n",
       "        2.98877842],\n",
       "       ...,\n",
       "       [3.20285353, 3.09380609, 2.81596982, ..., 0.        , 3.21190291,\n",
       "        2.87445442],\n",
       "       [1.84380918, 3.01923008, 3.36492227, ..., 3.21190291, 0.        ,\n",
       "        2.97473498],\n",
       "       [3.14611266, 1.43032853, 2.98877842, ..., 2.87445442, 2.97473498,\n",
       "        0.        ]])"
      ]
     },
     "execution_count": 10,
     "metadata": {},
     "output_type": "execute_result"
    }
   ],
   "source": [
    "fast_kmedoids.D_GG"
   ]
  },
  {
   "cell_type": "code",
   "execution_count": 11,
   "metadata": {},
   "outputs": [
    {
     "data": {
      "text/plain": [
       "(217, 217)"
      ]
     },
     "execution_count": 11,
     "metadata": {},
     "output_type": "execute_result"
    }
   ],
   "source": [
    "fast_kmedoids.D_GG.shape"
   ]
  },
  {
   "cell_type": "markdown",
   "metadata": {},
   "source": [
    "## **KFold FastKmedoids**"
   ]
  },
  {
   "cell_type": "code",
   "execution_count": 6,
   "metadata": {},
   "outputs": [
    {
     "name": "stdout",
     "output_type": "stream",
     "text": [
      "Num.Folds: 10. Fold size: 2173.\n",
      "Distance matrix size: 218 (0.1*2173) \n",
      "Clustering Fold 0\n",
      "Distance matrix size: (217, 217)\n",
      "Clustering Fold 1\n",
      "Distance matrix size: (217, 217)\n",
      "Clustering Fold 2\n",
      "Distance matrix size: (217, 217)\n",
      "Clustering Fold 3\n",
      "Distance matrix size: (217, 217)\n",
      "Clustering Fold 4\n",
      "Distance matrix size: (217, 217)\n",
      "Clustering Fold 5\n",
      "Distance matrix size: (217, 217)\n",
      "Clustering Fold 6\n",
      "Distance matrix size: (217, 217)\n",
      "Clustering Fold 7\n",
      "Distance matrix size: (217, 217)\n",
      "Clustering Fold 8\n",
      "Distance matrix size: (217, 217)\n",
      "Clustering Fold 9\n",
      "Distance matrix size: (217, 217)\n",
      "X_medoids size: (30, 11)\n",
      "Distance matrix size: (24, 24)\n"
     ]
    }
   ],
   "source": [
    "kfold_fast_kmedoids = KFoldFastKmedoidsGG(n_clusters=3, method='pam', init='heuristic', max_iter=100, random_state=123,\n",
    "                                          frac_sample_size=0.1, n_splits=10, shuffle=True, kfold_random_state=123,\n",
    "                                          p1=5, p2=4, p3=2, d1='robust_mahalanobis', d2='jaccard', d3='matching', \n",
    "                                          robust_maha_method='trimmed', alpha=0.05, epsilon=0.05, n_iters=20,\n",
    "                                          fast_VG=False, VG_sample_size=1000, VG_n_samples=5)\n",
    "kfold_fast_kmedoids.fit(X=madrid_houses_df) "
   ]
  },
  {
   "cell_type": "code",
   "execution_count": 7,
   "metadata": {},
   "outputs": [
    {
     "data": {
      "text/plain": [
       "array([0, 1, 1, ..., 1, 1, 1])"
      ]
     },
     "execution_count": 7,
     "metadata": {},
     "output_type": "execute_result"
    }
   ],
   "source": [
    "kfold_fast_kmedoids.labels"
   ]
  },
  {
   "cell_type": "code",
   "execution_count": 8,
   "metadata": {},
   "outputs": [
    {
     "data": {
      "text/plain": [
       "(21739,)"
      ]
     },
     "execution_count": 8,
     "metadata": {},
     "output_type": "execute_result"
    }
   ],
   "source": [
    "kfold_fast_kmedoids.labels.shape"
   ]
  }
 ],
 "metadata": {
  "kernelspec": {
   "display_name": "Python 3",
   "language": "python",
   "name": "python3"
  },
  "language_info": {
   "codemirror_mode": {
    "name": "ipython",
    "version": 3
   },
   "file_extension": ".py",
   "mimetype": "text/x-python",
   "name": "python",
   "nbconvert_exporter": "python",
   "pygments_lexer": "ipython3",
   "version": "3.11.5"
  }
 },
 "nbformat": 4,
 "nbformat_minor": 2
}
