{
 "cells": [
  {
   "cell_type": "code",
   "execution_count": 1,
   "metadata": {},
   "outputs": [
    {
     "name": "stdout",
     "output_type": "stream",
     "text": [
      "Collecting FastKmedoids\n",
      "  Using cached FastKmedoids-0.0.10-py3-none-any.whl.metadata (895 bytes)\n",
      "Requirement already satisfied: polars in c:\\users\\fscielzo\\anaconda3\\lib\\site-packages (from FastKmedoids) (0.20.15)\n",
      "Requirement already satisfied: numpy in c:\\users\\fscielzo\\anaconda3\\lib\\site-packages (from FastKmedoids) (1.24.3)\n",
      "Using cached FastKmedoids-0.0.10-py3-none-any.whl (12 kB)\n",
      "Installing collected packages: FastKmedoids\n",
      "Successfully installed FastKmedoids-0.0.10\n",
      "Note: you may need to restart the kernel to use updated packages.\n"
     ]
    }
   ],
   "source": [
    "pip install FastKmedoids --upgrade"
   ]
  },
  {
   "cell_type": "code",
   "execution_count": 4,
   "metadata": {},
   "outputs": [],
   "source": [
    "from FastKmedoids.models import FastKmedoidsGG"
   ]
  },
  {
   "cell_type": "code",
   "execution_count": 5,
   "metadata": {},
   "outputs": [
    {
     "data": {
      "text/plain": [
       "FastKmedoids.models.FastKmedoidsGG"
      ]
     },
     "execution_count": 5,
     "metadata": {},
     "output_type": "execute_result"
    }
   ],
   "source": [
    "FastKmedoidsGG"
   ]
  }
 ],
 "metadata": {
  "kernelspec": {
   "display_name": "Python 3",
   "language": "python",
   "name": "python3"
  },
  "language_info": {
   "codemirror_mode": {
    "name": "ipython",
    "version": 3
   },
   "file_extension": ".py",
   "mimetype": "text/x-python",
   "name": "python",
   "nbconvert_exporter": "python",
   "pygments_lexer": "ipython3",
   "version": "3.11.5"
  }
 },
 "nbformat": 4,
 "nbformat_minor": 2
}
