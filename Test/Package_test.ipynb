{
 "cells": [
  {
   "cell_type": "code",
   "execution_count": 1,
   "metadata": {},
   "outputs": [
    {
     "name": "stdout",
     "output_type": "stream",
     "text": [
      "Collecting FastKmedoids\n",
      "  Downloading FastKmedoids-0.0.6-py3-none-any.whl.metadata (990 bytes)\n",
      "Requirement already satisfied: polars in c:\\users\\fscielzo\\appdata\\local\\programs\\python\\python312\\lib\\site-packages (from FastKmedoids) (0.20.0)\n",
      "Requirement already satisfied: numpy in c:\\users\\fscielzo\\appdata\\local\\programs\\python\\python312\\lib\\site-packages (from FastKmedoids) (1.26.1)\n",
      "Downloading FastKmedoids-0.0.6-py3-none-any.whl (2.8 kB)\n",
      "Installing collected packages: FastKmedoids\n",
      "Successfully installed FastKmedoids-0.0.6\n",
      "Note: you may need to restart the kernel to use updated packages.\n"
     ]
    }
   ],
   "source": [
    "pip install FastKmedoids"
   ]
  },
  {
   "cell_type": "code",
   "execution_count": 2,
   "metadata": {},
   "outputs": [],
   "source": [
    "from FastKmedoids import package_status"
   ]
  },
  {
   "cell_type": "code",
   "execution_count": 3,
   "metadata": {},
   "outputs": [
    {
     "name": "stdout",
     "output_type": "stream",
     "text": [
      "This package is under construction...\n"
     ]
    }
   ],
   "source": [
    "package_status()"
   ]
  }
 ],
 "metadata": {
  "kernelspec": {
   "display_name": "Python 3",
   "language": "python",
   "name": "python3"
  },
  "language_info": {
   "codemirror_mode": {
    "name": "ipython",
    "version": 3
   },
   "file_extension": ".py",
   "mimetype": "text/x-python",
   "name": "python",
   "nbconvert_exporter": "python",
   "pygments_lexer": "ipython3",
   "version": "3.12.0"
  }
 },
 "nbformat": 4,
 "nbformat_minor": 2
}
